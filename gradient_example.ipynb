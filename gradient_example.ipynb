{
 "cells": [
  {
   "cell_type": "code",
   "execution_count": 7,
   "id": "4e154aff-3938-4185-b757-c1dca28adc45",
   "metadata": {},
   "outputs": [],
   "source": [
    "import autograd.numpy as au\n",
    "import numpy as np\n",
    "from autograd import grad,jacobian\n"
   ]
  },
  {
   "cell_type": "code",
   "execution_count": 9,
   "id": "393632a6-4d5b-45b0-b384-f4ba165a6037",
   "metadata": {},
   "outputs": [],
   "source": [
    "p=np.array([1,2,3],dtype=float)\n",
    "\n",
    "def f(x):\n",
    "    return 2*x[0]*x[1]**3+3*x[1]**2*x[2]+x[2]**3*x[0]"
   ]
  },
  {
   "cell_type": "code",
   "execution_count": 12,
   "id": "a6b3a121-5ae9-4bb7-9ec8-d0616a8b000f",
   "metadata": {},
   "outputs": [],
   "source": [
    "grad_f=grad(f)\n",
    "hessian_f=jacobian(grad_f)"
   ]
  },
  {
   "cell_type": "raw",
   "id": "ccb7a545-88b6-485d-8b20-99cb08686eac",
   "metadata": {},
   "source": []
  },
  {
   "cell_type": "code",
   "execution_count": 13,
   "id": "e0d7d8e4-4cf6-4f65-9875-8299ec6c733a",
   "metadata": {},
   "outputs": [
    {
     "name": "stdout",
     "output_type": "stream",
     "text": [
      "hessian matrix: [[ 0. 24. 27.]\n",
      " [24. 42. 12.]\n",
      " [27. 12. 18.]]\n"
     ]
    }
   ],
   "source": [
    "print(\"hessian matrix:\",hessian_f(p))"
   ]
  },
  {
   "cell_type": "code",
   "execution_count": null,
   "id": "410b2aa5-53b6-4fd7-b4e4-a3c1c30be647",
   "metadata": {},
   "outputs": [],
   "source": [
    "print(\"grad matrix:\",grad_f(p))"
   ]
  },
  {
   "cell_type": "code",
   "execution_count": null,
   "id": "c9a38653-d8cf-445a-9e51-4f4ba44e78f8",
   "metadata": {},
   "outputs": [],
   "source": []
  }
 ],
 "metadata": {
  "kernelspec": {
   "display_name": "MATHOPENV",
   "language": "python",
   "name": "mathopenv"
  },
  "language_info": {
   "codemirror_mode": {
    "name": "ipython",
    "version": 3
   },
   "file_extension": ".py",
   "mimetype": "text/x-python",
   "name": "python",
   "nbconvert_exporter": "python",
   "pygments_lexer": "ipython3",
   "version": "3.8.10"
  }
 },
 "nbformat": 4,
 "nbformat_minor": 5
}
