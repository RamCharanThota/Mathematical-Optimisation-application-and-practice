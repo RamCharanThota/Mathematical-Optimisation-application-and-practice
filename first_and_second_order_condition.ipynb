{
 "cells": [
  {
   "cell_type": "code",
   "execution_count": 5,
   "id": "d606c61c-1d09-4759-971b-3a0f81323990",
   "metadata": {},
   "outputs": [],
   "source": [
    "import numpy as np\n",
    "import scipy\n",
    "from scipy.optimize import rosen,rosen_der,rosen_hess"
   ]
  },
  {
   "cell_type": "code",
   "execution_count": 6,
   "id": "647cb174-3255-4957-8792-856f114aa039",
   "metadata": {},
   "outputs": [
    {
     "data": {
      "text/plain": [
       "0.0"
      ]
     },
     "execution_count": 6,
     "metadata": {},
     "output_type": "execute_result"
    }
   ],
   "source": [
    "x_m=np.array([1,1])\n",
    "rosen(x_m)"
   ]
  },
  {
   "cell_type": "code",
   "execution_count": 15,
   "id": "afe9c0fb-ada7-45bf-a5f6-961e8ed06ee9",
   "metadata": {},
   "outputs": [
    {
     "name": "stdout",
     "output_type": "stream",
     "text": [
      "the answer is [0 0]\n"
     ]
    }
   ],
   "source": [
    "print(\"the derivate  is\", rosen_der(x_m))"
   ]
  },
  {
   "cell_type": "code",
   "execution_count": 17,
   "id": "a7c68d67-f200-4018-b845-95ace412a41e",
   "metadata": {},
   "outputs": [
    {
     "name": "stdout",
     "output_type": "stream",
     "text": [
      "the hessian  is [[ 802 -400]\n",
      " [-400  200]]\n"
     ]
    }
   ],
   "source": [
    "print(\"the hessian  is\", rosen_hess(x_m))\n"
   ]
  },
  {
   "cell_type": "code",
   "execution_count": 21,
   "id": "45e34bd3-8d7f-4509-a426-55a1597607fc",
   "metadata": {},
   "outputs": [],
   "source": [
    "# example 2.2 \n",
    "def Himmelblaus(x):\n",
    "    return (x[0]**2+x[1]-11)**2+(x[0]+x[1]**2-7)**2"
   ]
  },
  {
   "cell_type": "code",
   "execution_count": 22,
   "id": "38366941-0af2-4fc5-a597-fb30e7b8b489",
   "metadata": {},
   "outputs": [
    {
     "name": "stdout",
     "output_type": "stream",
     "text": [
      "function at x_star 0.0\n"
     ]
    }
   ],
   "source": [
    "x_star=np.array([3,2],dtype='float') #local minimer\n",
    "print(\"function at x_star\", Himmelblaus(x_star))"
   ]
  },
  {
   "cell_type": "code",
   "execution_count": null,
   "id": "b83b63a7-5ea8-4a22-acea-f84ad66bfc56",
   "metadata": {},
   "outputs": [],
   "source": []
  }
 ],
 "metadata": {
  "kernelspec": {
   "display_name": "MATHOPENV",
   "language": "python",
   "name": "mathopenv"
  },
  "language_info": {
   "codemirror_mode": {
    "name": "ipython",
    "version": 3
   },
   "file_extension": ".py",
   "mimetype": "text/x-python",
   "name": "python",
   "nbconvert_exporter": "python",
   "pygments_lexer": "ipython3",
   "version": "3.8.10"
  }
 },
 "nbformat": 4,
 "nbformat_minor": 5
}
