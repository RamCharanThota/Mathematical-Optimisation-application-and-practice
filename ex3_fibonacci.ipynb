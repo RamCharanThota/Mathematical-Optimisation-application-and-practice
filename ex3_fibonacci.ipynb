{
 "cells": [
  {
   "cell_type": "code",
   "execution_count": 7,
   "id": "5df87d76-bf41-4133-9b18-f5200c08ad2d",
   "metadata": {},
   "outputs": [],
   "source": [
    "import pandas as pd\n",
    "import numpy as np"
   ]
  },
  {
   "cell_type": "code",
   "execution_count": 14,
   "id": "40e4c4c4-b570-4b8c-8084-1f974a6bdd44",
   "metadata": {},
   "outputs": [
    {
     "name": "stdout",
     "output_type": "stream",
     "text": [
      "   n  Fibonacci(n)\n",
      "0  0             0\n",
      "1  1             1\n",
      "2  2             1\n",
      "3  3             2\n",
      "4  4             3\n",
      "5  5             5\n"
     ]
    }
   ],
   "source": [
    "def fibonnaci(n):\n",
    "    fn=[0,1]\n",
    "    for i in range(2,n+1):\n",
    "        fn.append(fn[i-1]+fn[i-2])\n",
    "    return fn\n",
    "N=[0,1,2,3,4,5]\n",
    "data={'n':N, 'Fibonacci(n)':fibonnaci(5)}\n",
    "df=pd.DataFrame(data)\n",
    "print(df)"
   ]
  },
  {
   "cell_type": "code",
   "execution_count": 21,
   "id": "3313ef84-e17f-45d6-9197-4d2904c9258d",
   "metadata": {},
   "outputs": [
    {
     "name": "stdout",
     "output_type": "stream",
     "text": [
      "Column vector:\n",
      "[[1]\n",
      " [2]\n",
      " [3]]\n",
      "[1 2 3]\n",
      "size of the coloumn and row vector\n",
      "3\n"
     ]
    }
   ],
   "source": [
    "import numpy as np\n",
    "\n",
    "# Create a column vector with three elements\n",
    "column_vector = np.array([[1], [2], [3]])\n",
    "row_vector=np.array([1,2,3])\n",
    "\n",
    "# Display the column vector\n",
    "print(\"Column vector:\")\n",
    "print(column_vector)\n",
    "print(row_vector)\n",
    "\n",
    "\n",
    "print(\"size of the coloumn and row vector\")\n",
    "# Get the size of the column vector\n",
    "size = row_vector.shape[0]\n",
    "print(size)"
   ]
  },
  {
   "cell_type": "code",
   "execution_count": null,
   "id": "7f706a7e-1470-4e7d-9ef4-f6dcb08c5024",
   "metadata": {},
   "outputs": [],
   "source": []
  }
 ],
 "metadata": {
  "kernelspec": {
   "display_name": "MATHOPENV",
   "language": "python",
   "name": "mathopenv"
  },
  "language_info": {
   "codemirror_mode": {
    "name": "ipython",
    "version": 3
   },
   "file_extension": ".py",
   "mimetype": "text/x-python",
   "name": "python",
   "nbconvert_exporter": "python",
   "pygments_lexer": "ipython3",
   "version": "3.8.10"
  }
 },
 "nbformat": 4,
 "nbformat_minor": 5
}
