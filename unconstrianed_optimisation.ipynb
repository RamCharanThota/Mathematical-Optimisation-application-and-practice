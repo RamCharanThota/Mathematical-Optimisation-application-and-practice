{
 "cells": [
  {
   "cell_type": "code",
   "execution_count": 1,
   "id": "ad25010c-e7b2-4862-b8f5-f8e30d96a876",
   "metadata": {},
   "outputs": [],
   "source": [
    "#compare line search and trust region methods"
   ]
  },
  {
   "cell_type": "code",
   "execution_count": 32,
   "id": "bf227e47-2467-4907-8994-a93cb866ff68",
   "metadata": {},
   "outputs": [],
   "source": [
    "import numpy as np\n",
    "import autograd.numpy as au\n",
    "from autograd import grad,jacobian"
   ]
  },
  {
   "cell_type": "code",
   "execution_count": 33,
   "id": "3e375159-b96c-4bbc-a697-0bb4fcce1850",
   "metadata": {},
   "outputs": [],
   "source": [
    "def fun(x):\n",
    "    x1,x2=x\n",
    "    return (x1-2)**2+(x2+3)**2\n",
    "\n",
    "#gradient of the function\n",
    "grad_fun=grad(fun)\n",
    "hessian_fun=jacobian(grad_fun)"
   ]
  },
  {
   "cell_type": "code",
   "execution_count": 34,
   "id": "c9edd510-be1f-4f44-80a7-efad8abc2e15",
   "metadata": {},
   "outputs": [
    {
     "name": "stdout",
     "output_type": "stream",
     "text": [
      "Result using line search method: [ 1.99999974 -2.99999961]  max iterations taken 71\n"
     ]
    }
   ],
   "source": [
    "# Line descent method\n",
    "#inital guess\n",
    "x0=np.array([0.0,0.0])\n",
    "\n",
    "# Line search method\n",
    "def line_search_method(f, grad_f, x0, alpha=0.1, tol=1e-6, max_iter=1000):\n",
    "    x = x0\n",
    "    for i in range(max_iter):\n",
    "        gradient = grad_f(x)\n",
    "        if np.linalg.norm(gradient) < tol:\n",
    "            break\n",
    "        direction = -gradient\n",
    "        step_size = alpha\n",
    "        while f(x + step_size * direction) >= f(x):\n",
    "            step_size *= 0.5\n",
    "        x = x + step_size * direction\n",
    "    return x,i\n",
    "\n",
    "# Solve with line search method\n",
    "result_line_search, iteration_taken= line_search_method(fun, grad_fun, x0);\n",
    "print(\"Result using line search method:\", result_line_search ,\" max iterations taken\", iteration_taken)"
   ]
  },
  {
   "cell_type": "code",
   "execution_count": 41,
   "id": "5e656d9c-681e-4a6e-9d4c-65958ab41451",
   "metadata": {},
   "outputs": [
    {
     "name": "stdout",
     "output_type": "stream",
     "text": [
      "with out transpose 52.0\n",
      "with transpose 52.0\n",
      "Result using line search method: [ 2. -3.]  max iterations taken 1\n"
     ]
    }
   ],
   "source": [
    "# trust region methods\n",
    "\n",
    "#inital guess\n",
    "x0=np.array([1.0,2.0])\n",
    "\n",
    "def trust_region_method(f,grad_f,x0,delta=0.1,eta=0.1,tol=1e-6,max_iter=1000):\n",
    "    x=x0\n",
    "    for i in range(max_iter):\n",
    "        gradient=grad_f(x)\n",
    "        if np.linalg.norm(gradient)<tol:\n",
    "            break\n",
    "        hessian=hessian_fun(x)\n",
    "        step=np.linalg.solve(hessian,-gradient)\n",
    "        actual_reduction=f(x)-f(x+step)\n",
    "\n",
    "        hess_multip= hessian.dot(step)\n",
    "        hess_con=step.dot(hess_multip)\n",
    "        print(\"with out transpose\", hess_con)\n",
    "        print(\"with transpose\", np.transpose(step).dot(hess_multip))\n",
    "        predicted_reduction=f(x)-(f(x)+gradient.dot(step)+0.5*hess_con)\n",
    "        #predicted_reduction = -0.5 * gradient.dot(step)\n",
    "        rho = actual_reduction / predicted_reduction\n",
    "        if rho < 0.25:\n",
    "            delta *= 0.25\n",
    "        elif rho > 0.75 and np.abs(np.linalg.norm(step) - delta) < tol:\n",
    "            delta = min(2 * delta, 1)\n",
    "        if rho > eta:\n",
    "            x = x + step\n",
    "    return x, i\n",
    "\n",
    "# Solve with line search method\n",
    "result_line_search, iteration_taken= trust_region_method(fun, grad_fun, x0);\n",
    "print(\"Result using line search method:\", result_line_search ,\" max iterations taken\", iteration_taken)\n",
    "        \n",
    "    "
   ]
  },
  {
   "cell_type": "code",
   "execution_count": null,
   "id": "8ca02194-2735-4b45-ae17-a761fad2e089",
   "metadata": {},
   "outputs": [],
   "source": []
  }
 ],
 "metadata": {
  "kernelspec": {
   "display_name": "MATHOPENV",
   "language": "python",
   "name": "mathopenv"
  },
  "language_info": {
   "codemirror_mode": {
    "name": "ipython",
    "version": 3
   },
   "file_extension": ".py",
   "mimetype": "text/x-python",
   "name": "python",
   "nbconvert_exporter": "python",
   "pygments_lexer": "ipython3",
   "version": "3.8.10"
  }
 },
 "nbformat": 4,
 "nbformat_minor": 5
}
